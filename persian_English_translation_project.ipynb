{
  "cells": [
    {
      "cell_type": "markdown",
      "id": "eb6719d6",
      "metadata": {
        "id": "eb6719d6"
      },
      "source": [
        "# Persian-English Translator Project (Classical Seq2Seq)\n",
        "\n",
        "This notebook implements a classical Persian↔English translator using Seq2Seq (LSTM). It includes preprocessing, POS tagging, NER, tokenization, embedding, model design, training, and evaluation.\n",
        "\n",
        "---\n"
      ]
    },
    {
      "cell_type": "markdown",
      "id": "38a0a6f3",
      "metadata": {
        "id": "38a0a6f3"
      },
      "source": [
        "## Table of contents\n",
        "1. Project goals\n",
        "2. Environment setup\n",
        "3. Data collection\n",
        "4. Preprocessing\n",
        "5. POS tagging\n",
        "6. NER\n",
        "7. Tokenization & Embedding\n",
        "8. Seq2Seq model\n",
        "9. Evaluation\n",
        "10. Analysis and report\n",
        "\n"
      ]
    },
    {
      "cell_type": "markdown",
      "id": "d2d98dff",
      "metadata": {
        "id": "d2d98dff"
      },
      "source": [
        "## 2. Environment setup"
      ]
    },
    {
      "cell_type": "code",
      "source": [
        "!pip install --upgrade pip\n",
        "!pip install numpy pandas matplotlib scikit-learn tensorflow keras hazm parsivar sacrebleu nltk sentencepiece\n",
        "# Optional: for advanced Persian NER datasets and models\n",
        "!pip install datasets transformers seqeval"
      ],
      "metadata": {
        "colab": {
          "base_uri": "https://localhost:8080/"
        },
        "id": "GhPvpqmRpT5F",
        "outputId": "68ac659f-008b-4b2f-d79d-34e848c8afd5",
        "collapsed": true
      },
      "id": "GhPvpqmRpT5F",
      "execution_count": 1,
      "outputs": [
        {
          "output_type": "stream",
          "name": "stdout",
          "text": [
            "Requirement already satisfied: pip in /usr/local/lib/python3.12/dist-packages (25.2)\n",
            "Requirement already satisfied: numpy in /usr/local/lib/python3.12/dist-packages (1.26.4)\n",
            "Requirement already satisfied: pandas in /usr/local/lib/python3.12/dist-packages (2.2.2)\n",
            "Requirement already satisfied: matplotlib in /usr/local/lib/python3.12/dist-packages (3.10.0)\n",
            "Requirement already satisfied: scikit-learn in /usr/local/lib/python3.12/dist-packages (1.6.1)\n",
            "Requirement already satisfied: tensorflow in /usr/local/lib/python3.12/dist-packages (2.19.0)\n",
            "Requirement already satisfied: keras in /usr/local/lib/python3.12/dist-packages (3.10.0)\n",
            "Requirement already satisfied: hazm in /usr/local/lib/python3.12/dist-packages (0.9.3)\n",
            "Requirement already satisfied: parsivar in /usr/local/lib/python3.12/dist-packages (0.2.3.1)\n",
            "Requirement already satisfied: sacrebleu in /usr/local/lib/python3.12/dist-packages (2.5.1)\n",
            "Requirement already satisfied: nltk in /usr/local/lib/python3.12/dist-packages (3.9.1)\n",
            "Requirement already satisfied: sentencepiece in /usr/local/lib/python3.12/dist-packages (0.2.1)\n",
            "Requirement already satisfied: python-dateutil>=2.8.2 in /usr/local/lib/python3.12/dist-packages (from pandas) (2.9.0.post0)\n",
            "Requirement already satisfied: pytz>=2020.1 in /usr/local/lib/python3.12/dist-packages (from pandas) (2025.2)\n",
            "Requirement already satisfied: tzdata>=2022.7 in /usr/local/lib/python3.12/dist-packages (from pandas) (2025.2)\n",
            "Requirement already satisfied: contourpy>=1.0.1 in /usr/local/lib/python3.12/dist-packages (from matplotlib) (1.3.3)\n",
            "Requirement already satisfied: cycler>=0.10 in /usr/local/lib/python3.12/dist-packages (from matplotlib) (0.12.1)\n",
            "Requirement already satisfied: fonttools>=4.22.0 in /usr/local/lib/python3.12/dist-packages (from matplotlib) (4.60.0)\n",
            "Requirement already satisfied: kiwisolver>=1.3.1 in /usr/local/lib/python3.12/dist-packages (from matplotlib) (1.4.9)\n",
            "Requirement already satisfied: packaging>=20.0 in /usr/local/lib/python3.12/dist-packages (from matplotlib) (25.0)\n",
            "Requirement already satisfied: pillow>=8 in /usr/local/lib/python3.12/dist-packages (from matplotlib) (11.3.0)\n",
            "Requirement already satisfied: pyparsing>=2.3.1 in /usr/local/lib/python3.12/dist-packages (from matplotlib) (3.2.4)\n",
            "Requirement already satisfied: scipy>=1.6.0 in /usr/local/lib/python3.12/dist-packages (from scikit-learn) (1.13.1)\n",
            "Requirement already satisfied: joblib>=1.2.0 in /usr/local/lib/python3.12/dist-packages (from scikit-learn) (1.5.2)\n",
            "Requirement already satisfied: threadpoolctl>=3.1.0 in /usr/local/lib/python3.12/dist-packages (from scikit-learn) (3.6.0)\n",
            "Requirement already satisfied: absl-py>=1.0.0 in /usr/local/lib/python3.12/dist-packages (from tensorflow) (1.4.0)\n",
            "Requirement already satisfied: astunparse>=1.6.0 in /usr/local/lib/python3.12/dist-packages (from tensorflow) (1.6.3)\n",
            "Requirement already satisfied: flatbuffers>=24.3.25 in /usr/local/lib/python3.12/dist-packages (from tensorflow) (25.2.10)\n",
            "Requirement already satisfied: gast!=0.5.0,!=0.5.1,!=0.5.2,>=0.2.1 in /usr/local/lib/python3.12/dist-packages (from tensorflow) (0.6.0)\n",
            "Requirement already satisfied: google-pasta>=0.1.1 in /usr/local/lib/python3.12/dist-packages (from tensorflow) (0.2.0)\n",
            "Requirement already satisfied: libclang>=13.0.0 in /usr/local/lib/python3.12/dist-packages (from tensorflow) (18.1.1)\n",
            "Requirement already satisfied: opt-einsum>=2.3.2 in /usr/local/lib/python3.12/dist-packages (from tensorflow) (3.4.0)\n",
            "Requirement already satisfied: protobuf!=4.21.0,!=4.21.1,!=4.21.2,!=4.21.3,!=4.21.4,!=4.21.5,<6.0.0dev,>=3.20.3 in /usr/local/lib/python3.12/dist-packages (from tensorflow) (5.29.5)\n",
            "Requirement already satisfied: requests<3,>=2.21.0 in /usr/local/lib/python3.12/dist-packages (from tensorflow) (2.32.4)\n",
            "Requirement already satisfied: setuptools in /usr/local/lib/python3.12/dist-packages (from tensorflow) (75.2.0)\n",
            "Requirement already satisfied: six>=1.12.0 in /usr/local/lib/python3.12/dist-packages (from tensorflow) (1.17.0)\n",
            "Requirement already satisfied: termcolor>=1.1.0 in /usr/local/lib/python3.12/dist-packages (from tensorflow) (3.1.0)\n",
            "Requirement already satisfied: typing-extensions>=3.6.6 in /usr/local/lib/python3.12/dist-packages (from tensorflow) (4.15.0)\n",
            "Requirement already satisfied: wrapt>=1.11.0 in /usr/local/lib/python3.12/dist-packages (from tensorflow) (1.17.3)\n",
            "Requirement already satisfied: grpcio<2.0,>=1.24.3 in /usr/local/lib/python3.12/dist-packages (from tensorflow) (1.75.0)\n",
            "Requirement already satisfied: tensorboard~=2.19.0 in /usr/local/lib/python3.12/dist-packages (from tensorflow) (2.19.0)\n",
            "Requirement already satisfied: h5py>=3.11.0 in /usr/local/lib/python3.12/dist-packages (from tensorflow) (3.14.0)\n",
            "Requirement already satisfied: ml-dtypes<1.0.0,>=0.5.1 in /usr/local/lib/python3.12/dist-packages (from tensorflow) (0.5.3)\n",
            "Requirement already satisfied: charset_normalizer<4,>=2 in /usr/local/lib/python3.12/dist-packages (from requests<3,>=2.21.0->tensorflow) (3.4.3)\n",
            "Requirement already satisfied: idna<4,>=2.5 in /usr/local/lib/python3.12/dist-packages (from requests<3,>=2.21.0->tensorflow) (3.10)\n",
            "Requirement already satisfied: urllib3<3,>=1.21.1 in /usr/local/lib/python3.12/dist-packages (from requests<3,>=2.21.0->tensorflow) (2.5.0)\n",
            "Requirement already satisfied: certifi>=2017.4.17 in /usr/local/lib/python3.12/dist-packages (from requests<3,>=2.21.0->tensorflow) (2025.8.3)\n",
            "Requirement already satisfied: markdown>=2.6.8 in /usr/local/lib/python3.12/dist-packages (from tensorboard~=2.19.0->tensorflow) (3.9)\n",
            "Requirement already satisfied: tensorboard-data-server<0.8.0,>=0.7.0 in /usr/local/lib/python3.12/dist-packages (from tensorboard~=2.19.0->tensorflow) (0.7.2)\n",
            "Requirement already satisfied: werkzeug>=1.0.1 in /usr/local/lib/python3.12/dist-packages (from tensorboard~=2.19.0->tensorflow) (3.1.3)\n",
            "Requirement already satisfied: rich in /usr/local/lib/python3.12/dist-packages (from keras) (13.9.4)\n",
            "Requirement already satisfied: namex in /usr/local/lib/python3.12/dist-packages (from keras) (0.1.0)\n",
            "Requirement already satisfied: optree in /usr/local/lib/python3.12/dist-packages (from keras) (0.17.0)\n",
            "Requirement already satisfied: fasttext-wheel<0.10.0,>=0.9.2 in /usr/local/lib/python3.12/dist-packages (from hazm) (0.9.2)\n",
            "Requirement already satisfied: gensim<5.0.0,>=4.3.1 in /usr/local/lib/python3.12/dist-packages (from hazm) (4.3.3)\n",
            "Requirement already satisfied: python-crfsuite<0.10.0,>=0.9.9 in /usr/local/lib/python3.12/dist-packages (from hazm) (0.9.11)\n",
            "Requirement already satisfied: click in /usr/local/lib/python3.12/dist-packages (from nltk) (8.2.1)\n",
            "Requirement already satisfied: regex>=2021.8.3 in /usr/local/lib/python3.12/dist-packages (from nltk) (2024.11.6)\n",
            "Requirement already satisfied: tqdm in /usr/local/lib/python3.12/dist-packages (from nltk) (4.67.1)\n",
            "Requirement already satisfied: pybind11>=2.2 in /usr/local/lib/python3.12/dist-packages (from fasttext-wheel<0.10.0,>=0.9.2->hazm) (3.0.1)\n",
            "Requirement already satisfied: smart-open>=1.8.1 in /usr/local/lib/python3.12/dist-packages (from gensim<5.0.0,>=4.3.1->hazm) (7.3.1)\n",
            "Requirement already satisfied: portalocker in /usr/local/lib/python3.12/dist-packages (from sacrebleu) (3.2.0)\n",
            "Requirement already satisfied: tabulate>=0.8.9 in /usr/local/lib/python3.12/dist-packages (from sacrebleu) (0.9.0)\n",
            "Requirement already satisfied: colorama in /usr/local/lib/python3.12/dist-packages (from sacrebleu) (0.4.6)\n",
            "Requirement already satisfied: lxml in /usr/local/lib/python3.12/dist-packages (from sacrebleu) (5.4.0)\n",
            "Requirement already satisfied: wheel<1.0,>=0.23.0 in /usr/local/lib/python3.12/dist-packages (from astunparse>=1.6.0->tensorflow) (0.45.1)\n",
            "Requirement already satisfied: MarkupSafe>=2.1.1 in /usr/local/lib/python3.12/dist-packages (from werkzeug>=1.0.1->tensorboard~=2.19.0->tensorflow) (3.0.2)\n",
            "Requirement already satisfied: markdown-it-py>=2.2.0 in /usr/local/lib/python3.12/dist-packages (from rich->keras) (4.0.0)\n",
            "Requirement already satisfied: pygments<3.0.0,>=2.13.0 in /usr/local/lib/python3.12/dist-packages (from rich->keras) (2.19.2)\n",
            "Requirement already satisfied: mdurl~=0.1 in /usr/local/lib/python3.12/dist-packages (from markdown-it-py>=2.2.0->rich->keras) (0.1.2)\n",
            "Requirement already satisfied: datasets in /usr/local/lib/python3.12/dist-packages (4.0.0)\n",
            "Requirement already satisfied: transformers in /usr/local/lib/python3.12/dist-packages (4.56.1)\n",
            "Requirement already satisfied: seqeval in /usr/local/lib/python3.12/dist-packages (1.2.2)\n",
            "Requirement already satisfied: filelock in /usr/local/lib/python3.12/dist-packages (from datasets) (3.19.1)\n",
            "Requirement already satisfied: numpy>=1.17 in /usr/local/lib/python3.12/dist-packages (from datasets) (1.26.4)\n",
            "Requirement already satisfied: pyarrow>=15.0.0 in /usr/local/lib/python3.12/dist-packages (from datasets) (18.1.0)\n",
            "Requirement already satisfied: dill<0.3.9,>=0.3.0 in /usr/local/lib/python3.12/dist-packages (from datasets) (0.3.8)\n",
            "Requirement already satisfied: pandas in /usr/local/lib/python3.12/dist-packages (from datasets) (2.2.2)\n",
            "Requirement already satisfied: requests>=2.32.2 in /usr/local/lib/python3.12/dist-packages (from datasets) (2.32.4)\n",
            "Requirement already satisfied: tqdm>=4.66.3 in /usr/local/lib/python3.12/dist-packages (from datasets) (4.67.1)\n",
            "Requirement already satisfied: xxhash in /usr/local/lib/python3.12/dist-packages (from datasets) (3.5.0)\n",
            "Requirement already satisfied: multiprocess<0.70.17 in /usr/local/lib/python3.12/dist-packages (from datasets) (0.70.16)\n",
            "Requirement already satisfied: fsspec<=2025.3.0,>=2023.1.0 in /usr/local/lib/python3.12/dist-packages (from fsspec[http]<=2025.3.0,>=2023.1.0->datasets) (2025.3.0)\n",
            "Requirement already satisfied: huggingface-hub>=0.24.0 in /usr/local/lib/python3.12/dist-packages (from datasets) (0.35.0)\n",
            "Requirement already satisfied: packaging in /usr/local/lib/python3.12/dist-packages (from datasets) (25.0)\n",
            "Requirement already satisfied: pyyaml>=5.1 in /usr/local/lib/python3.12/dist-packages (from datasets) (6.0.2)\n",
            "Requirement already satisfied: aiohttp!=4.0.0a0,!=4.0.0a1 in /usr/local/lib/python3.12/dist-packages (from fsspec[http]<=2025.3.0,>=2023.1.0->datasets) (3.12.15)\n",
            "Requirement already satisfied: regex!=2019.12.17 in /usr/local/lib/python3.12/dist-packages (from transformers) (2024.11.6)\n",
            "Requirement already satisfied: tokenizers<=0.23.0,>=0.22.0 in /usr/local/lib/python3.12/dist-packages (from transformers) (0.22.0)\n",
            "Requirement already satisfied: safetensors>=0.4.3 in /usr/local/lib/python3.12/dist-packages (from transformers) (0.6.2)\n",
            "Requirement already satisfied: typing-extensions>=3.7.4.3 in /usr/local/lib/python3.12/dist-packages (from huggingface-hub>=0.24.0->datasets) (4.15.0)\n",
            "Requirement already satisfied: hf-xet<2.0.0,>=1.1.3 in /usr/local/lib/python3.12/dist-packages (from huggingface-hub>=0.24.0->datasets) (1.1.10)\n",
            "Requirement already satisfied: scikit-learn>=0.21.3 in /usr/local/lib/python3.12/dist-packages (from seqeval) (1.6.1)\n",
            "Requirement already satisfied: aiohappyeyeballs>=2.5.0 in /usr/local/lib/python3.12/dist-packages (from aiohttp!=4.0.0a0,!=4.0.0a1->fsspec[http]<=2025.3.0,>=2023.1.0->datasets) (2.6.1)\n",
            "Requirement already satisfied: aiosignal>=1.4.0 in /usr/local/lib/python3.12/dist-packages (from aiohttp!=4.0.0a0,!=4.0.0a1->fsspec[http]<=2025.3.0,>=2023.1.0->datasets) (1.4.0)\n",
            "Requirement already satisfied: attrs>=17.3.0 in /usr/local/lib/python3.12/dist-packages (from aiohttp!=4.0.0a0,!=4.0.0a1->fsspec[http]<=2025.3.0,>=2023.1.0->datasets) (25.3.0)\n",
            "Requirement already satisfied: frozenlist>=1.1.1 in /usr/local/lib/python3.12/dist-packages (from aiohttp!=4.0.0a0,!=4.0.0a1->fsspec[http]<=2025.3.0,>=2023.1.0->datasets) (1.7.0)\n",
            "Requirement already satisfied: multidict<7.0,>=4.5 in /usr/local/lib/python3.12/dist-packages (from aiohttp!=4.0.0a0,!=4.0.0a1->fsspec[http]<=2025.3.0,>=2023.1.0->datasets) (6.6.4)\n",
            "Requirement already satisfied: propcache>=0.2.0 in /usr/local/lib/python3.12/dist-packages (from aiohttp!=4.0.0a0,!=4.0.0a1->fsspec[http]<=2025.3.0,>=2023.1.0->datasets) (0.3.2)\n",
            "Requirement already satisfied: yarl<2.0,>=1.17.0 in /usr/local/lib/python3.12/dist-packages (from aiohttp!=4.0.0a0,!=4.0.0a1->fsspec[http]<=2025.3.0,>=2023.1.0->datasets) (1.20.1)\n",
            "Requirement already satisfied: idna>=2.0 in /usr/local/lib/python3.12/dist-packages (from yarl<2.0,>=1.17.0->aiohttp!=4.0.0a0,!=4.0.0a1->fsspec[http]<=2025.3.0,>=2023.1.0->datasets) (3.10)\n",
            "Requirement already satisfied: charset_normalizer<4,>=2 in /usr/local/lib/python3.12/dist-packages (from requests>=2.32.2->datasets) (3.4.3)\n",
            "Requirement already satisfied: urllib3<3,>=1.21.1 in /usr/local/lib/python3.12/dist-packages (from requests>=2.32.2->datasets) (2.5.0)\n",
            "Requirement already satisfied: certifi>=2017.4.17 in /usr/local/lib/python3.12/dist-packages (from requests>=2.32.2->datasets) (2025.8.3)\n",
            "Requirement already satisfied: scipy>=1.6.0 in /usr/local/lib/python3.12/dist-packages (from scikit-learn>=0.21.3->seqeval) (1.13.1)\n",
            "Requirement already satisfied: joblib>=1.2.0 in /usr/local/lib/python3.12/dist-packages (from scikit-learn>=0.21.3->seqeval) (1.5.2)\n",
            "Requirement already satisfied: threadpoolctl>=3.1.0 in /usr/local/lib/python3.12/dist-packages (from scikit-learn>=0.21.3->seqeval) (3.6.0)\n",
            "Requirement already satisfied: python-dateutil>=2.8.2 in /usr/local/lib/python3.12/dist-packages (from pandas->datasets) (2.9.0.post0)\n",
            "Requirement already satisfied: pytz>=2020.1 in /usr/local/lib/python3.12/dist-packages (from pandas->datasets) (2025.2)\n",
            "Requirement already satisfied: tzdata>=2022.7 in /usr/local/lib/python3.12/dist-packages (from pandas->datasets) (2025.2)\n",
            "Requirement already satisfied: six>=1.5 in /usr/local/lib/python3.12/dist-packages (from python-dateutil>=2.8.2->pandas->datasets) (1.17.0)\n"
          ]
        }
      ]
    },
    {
      "cell_type": "code",
      "source": [
        "#%load_ext cudf.pandas"
      ],
      "metadata": {
        "id": "dfGqwImhJAVY"
      },
      "id": "dfGqwImhJAVY",
      "execution_count": 2,
      "outputs": []
    },
    {
      "cell_type": "code",
      "source": [
        "import numpy as np\n",
        "import pandas as pd\n",
        "import matplotlib.pyplot as plt\n",
        "import sklearn\n",
        "import tensorflow as tf\n",
        "import keras\n",
        "\n",
        "import hazm\n",
        "import parsivar\n",
        "import sacrebleu\n",
        "import nltk\n",
        "import sentencepiece\n",
        "import datasets\n",
        "import transformers\n",
        "import seqeval"
      ],
      "metadata": {
        "id": "XByeLxawl6EB"
      },
      "id": "XByeLxawl6EB",
      "execution_count": 3,
      "outputs": []
    },
    {
      "cell_type": "markdown",
      "source": [
        "## 3. Data collection"
      ],
      "metadata": {
        "id": "79TV9l_bU0d0"
      },
      "id": "79TV9l_bU0d0"
    },
    {
      "cell_type": "markdown",
      "source": [
        "### 3.1: Imports"
      ],
      "metadata": {
        "id": "fQQSIYqMVX_I"
      },
      "id": "fQQSIYqMVX_I"
    },
    {
      "cell_type": "code",
      "source": [
        "from datasets import load_dataset, DatasetDict\n",
        "import re, os\n",
        "from pprint import pprint"
      ],
      "metadata": {
        "id": "UQCFSNWXYRgQ"
      },
      "id": "UQCFSNWXYRgQ",
      "execution_count": 4,
      "outputs": []
    },
    {
      "cell_type": "markdown",
      "source": [
        "### 3.2: Load dataset and inspect (normal load)"
      ],
      "metadata": {
        "id": "WbmhaWaelC5T"
      },
      "id": "WbmhaWaelC5T"
    },
    {
      "cell_type": "code",
      "source": [
        "# Data collection: load the Hugging Face dataset (full, non-streaming)\n",
        "\n",
        "DATASET_ID = \"shenasa/English-Persian-Parallel-Dataset\"\n",
        "\n",
        "print(\"Loading dataset (this may take a minute)...\")\n",
        "data_set = load_dataset(DATASET_ID)   # loads all splits (here only 'train')\n",
        "print(\"Dataset is loaded successfully\")"
      ],
      "metadata": {
        "colab": {
          "base_uri": "https://localhost:8080/"
        },
        "id": "GuM-dgZVU1Fa",
        "outputId": "8c53cf16-3674-4cb0-e94f-03b47b29ca19"
      },
      "id": "GuM-dgZVU1Fa",
      "execution_count": 5,
      "outputs": [
        {
          "output_type": "stream",
          "name": "stdout",
          "text": [
            "Loading dataset (this may take a minute)...\n"
          ]
        },
        {
          "output_type": "stream",
          "name": "stderr",
          "text": [
            "/usr/local/lib/python3.12/dist-packages/huggingface_hub/utils/_auth.py:94: UserWarning: \n",
            "The secret `HF_TOKEN` does not exist in your Colab secrets.\n",
            "To authenticate with the Hugging Face Hub, create a token in your settings tab (https://huggingface.co/settings/tokens), set it as secret in your Google Colab and restart your session.\n",
            "You will be able to reuse this secret in all of your notebooks.\n",
            "Please note that authentication is recommended but still optional to access public models or datasets.\n",
            "  warnings.warn(\n"
          ]
        },
        {
          "output_type": "stream",
          "name": "stdout",
          "text": [
            "Dataset is loaded successfully\n"
          ]
        }
      ]
    },
    {
      "cell_type": "code",
      "source": [
        "# quick summary (splits, size)\n",
        "print(data_set)\n",
        "\n",
        "# Print column names and example\n",
        "split_name = list(data_set.keys())[0]      # should be 'train'\n",
        "print(\"Split:\", split_name)\n",
        "print(\"Columns:\", data_set[split_name].column_names)\n",
        "print(\"\\nOne sample (0):\")\n",
        "pprint(data_set[split_name][0])"
      ],
      "metadata": {
        "colab": {
          "base_uri": "https://localhost:8080/"
        },
        "id": "JekcivKqlBdw",
        "outputId": "ee2e861d-772c-413a-d2f4-591559a2c01a"
      },
      "id": "JekcivKqlBdw",
      "execution_count": 6,
      "outputs": [
        {
          "output_type": "stream",
          "name": "stdout",
          "text": [
            "DatasetDict({\n",
            "    train: Dataset({\n",
            "        features: ['flash fire .', 'فلاش آتش .'],\n",
            "        num_rows: 3960172\n",
            "    })\n",
            "})\n",
            "Split: train\n",
            "Columns: ['flash fire .', 'فلاش آتش .']\n",
            "\n",
            "One sample (0):\n",
            "{'flash fire .': 'superheats the air . burns the lungs like rice paper .',\n",
            " 'فلاش آتش .': 'هوا را فوق العاده گرم می کند . ریه ها را مثل کاغذ برنج می '\n",
            "               'سوزاند .'}\n"
          ]
        }
      ]
    },
    {
      "cell_type": "markdown",
      "source": [
        "## 4. Preprocessing (Normalization & cleaning)"
      ],
      "metadata": {
        "id": "w_j5f_ZEYxKU"
      },
      "id": "w_j5f_ZEYxKU"
    },
    {
      "cell_type": "markdown",
      "source": [
        "### 4.1: Imports"
      ],
      "metadata": {
        "id": "eIuV5c4vaSdT"
      },
      "id": "eIuV5c4vaSdT"
    },
    {
      "cell_type": "code",
      "source": [
        "from datasets import Dataset\n",
        "import re\n",
        "from hazm import Normalizer , word_tokenize , stopwords_list\n",
        "from datasets import DatasetDict\n",
        "from nltk.corpus import stopwords\n",
        "#import spacy"
      ],
      "metadata": {
        "id": "OB1Mo1EmZRwX"
      },
      "id": "OB1Mo1EmZRwX",
      "execution_count": 7,
      "outputs": []
    },
    {
      "cell_type": "code",
      "source": [
        "nltk.download('stopwords')"
      ],
      "metadata": {
        "colab": {
          "base_uri": "https://localhost:8080/"
        },
        "id": "C4KEaVzqVy6V",
        "outputId": "f0248630-e67e-43a6-d883-1080824299df"
      },
      "id": "C4KEaVzqVy6V",
      "execution_count": 8,
      "outputs": [
        {
          "output_type": "stream",
          "name": "stderr",
          "text": [
            "[nltk_data] Downloading package stopwords to /root/nltk_data...\n",
            "[nltk_data]   Package stopwords is already up-to-date!\n"
          ]
        },
        {
          "output_type": "execute_result",
          "data": {
            "text/plain": [
              "True"
            ]
          },
          "metadata": {},
          "execution_count": 8
        }
      ]
    },
    {
      "cell_type": "markdown",
      "source": [
        "### 4.2: Select a part of dataset"
      ],
      "metadata": {
        "id": "x97_OpzuDi8l"
      },
      "id": "x97_OpzuDi8l"
    },
    {
      "cell_type": "code",
      "source": [
        "# take a random sample of 500k\n",
        "ds = DatasetDict({\n",
        "    \"train\": data_set[\"train\"].shuffle(seed=42).select(range(500_000))\n",
        "})\n",
        "print(ds)"
      ],
      "metadata": {
        "colab": {
          "base_uri": "https://localhost:8080/"
        },
        "id": "IwSiW_MADqFM",
        "outputId": "50e8d2ce-1b5b-4206-8eb1-cf393432cf9e"
      },
      "id": "IwSiW_MADqFM",
      "execution_count": 9,
      "outputs": [
        {
          "output_type": "stream",
          "name": "stdout",
          "text": [
            "DatasetDict({\n",
            "    train: Dataset({\n",
            "        features: ['flash fire .', 'فلاش آتش .'],\n",
            "        num_rows: 500000\n",
            "    })\n",
            "})\n"
          ]
        }
      ]
    },
    {
      "cell_type": "markdown",
      "source": [
        "### 4.3: Auto-detect which column is Persian / English & rename"
      ],
      "metadata": {
        "id": "PDkEaYqTaPJa"
      },
      "id": "PDkEaYqTaPJa"
    },
    {
      "cell_type": "code",
      "source": [
        "# Detect Persian / English columns\n",
        "def is_persian(s):\n",
        "    if s is None:\n",
        "        return False\n",
        "    return bool(re.search(r'[\\u0600-\\u06FF]', s))\n",
        "\n",
        "cols = ds[split_name].column_names\n",
        "sample = ds[split_name][0]\n",
        "\n",
        "persian_col = None\n",
        "english_col = None\n",
        "for c in cols:\n",
        "    try:\n",
        "        if is_persian(sample[c]):\n",
        "            persian_col = c\n",
        "        else:\n",
        "            english_col = c\n",
        "    except Exception:\n",
        "        pass\n",
        "\n",
        "print(\"Detected Persian column:\", persian_col)\n",
        "print(\"Detected English column:\", english_col)\n",
        "\n",
        "\n",
        "# Helper functions to detect unwanted text\n",
        "def contains_english(text):\n",
        "    if text is None:\n",
        "        return False\n",
        "    return bool(re.search(r\"[A-Za-z]\", text))\n",
        "\n",
        "def contains_persian(text):\n",
        "    if text is None:\n",
        "        return False\n",
        "    return bool(re.search(r\"[\\u0600-\\u06FF]\", text))\n",
        "\n",
        "\n",
        "# Filter dataset\n",
        "filtered_dataset = ds[split_name].filter(\n",
        "    lambda x: not contains_english(x[persian_col]) and not contains_persian(x[english_col])\n",
        ")\n",
        "\n",
        "# Wrap back into DatasetDict to keep \"train\" key\n",
        "ds = {\"train\": filtered_dataset}\n",
        "print(ds)\n"
      ],
      "metadata": {
        "colab": {
          "base_uri": "https://localhost:8080/"
        },
        "id": "PefOW2UDX_Ae",
        "outputId": "b3c06b4b-2f16-480b-b610-2e4b838c5037"
      },
      "id": "PefOW2UDX_Ae",
      "execution_count": 10,
      "outputs": [
        {
          "output_type": "stream",
          "name": "stdout",
          "text": [
            "Detected Persian column: فلاش آتش .\n",
            "Detected English column: flash fire .\n",
            "{'train': Dataset({\n",
            "    features: ['flash fire .', 'فلاش آتش .'],\n",
            "    num_rows: 400320\n",
            "})}\n"
          ]
        }
      ]
    },
    {
      "cell_type": "markdown",
      "source": [
        "- There is a problem here. if we delete this way, all persian sentences with a single charachter of english will be deleted."
      ],
      "metadata": {
        "id": "NFOrvrh1YbKX"
      },
      "id": "NFOrvrh1YbKX"
    },
    {
      "cell_type": "code",
      "source": [
        "ds"
      ],
      "metadata": {
        "colab": {
          "base_uri": "https://localhost:8080/"
        },
        "id": "oT5nM2qUZZI_",
        "outputId": "10c17868-8f3a-4549-bdb0-4857973ccd4b"
      },
      "id": "oT5nM2qUZZI_",
      "execution_count": 11,
      "outputs": [
        {
          "output_type": "execute_result",
          "data": {
            "text/plain": [
              "{'train': Dataset({\n",
              "     features: ['flash fire .', 'فلاش آتش .'],\n",
              "     num_rows: 400320\n",
              " })}"
            ]
          },
          "metadata": {},
          "execution_count": 11
        }
      ]
    },
    {
      "cell_type": "markdown",
      "source": [
        "### 4.4: Rename columns to standard names and run light cleaning"
      ],
      "metadata": {
        "id": "qhKse3AGaH7v"
      },
      "id": "qhKse3AGaH7v"
    },
    {
      "cell_type": "code",
      "source": [
        "def rename_and_select(example):\n",
        "    return {\"persian\": example[persian_col], \"english\": example[english_col]}\n",
        "\n",
        "print(\"Mapping and renaming columns...\")\n",
        "ds_simple = ds[split_name].map(rename_and_select, remove_columns=ds[split_name].column_names) # split_name=\"train\"\n",
        "\n",
        "print(\"Old columns:\", ds[split_name].column_names)\n",
        "print(\"New columns:\", ds_simple.column_names)"
      ],
      "metadata": {
        "id": "vI8KhTDEYLEe",
        "colab": {
          "base_uri": "https://localhost:8080/"
        },
        "outputId": "4f693d30-2f61-4494-8a36-660cf004956c"
      },
      "id": "vI8KhTDEYLEe",
      "execution_count": 12,
      "outputs": [
        {
          "output_type": "stream",
          "name": "stdout",
          "text": [
            "Mapping and renaming columns...\n",
            "Old columns: ['flash fire .', 'فلاش آتش .']\n",
            "New columns: ['persian', 'english']\n"
          ]
        }
      ]
    },
    {
      "cell_type": "code",
      "source": [
        "print(ds)\n",
        "print(ds_simple)"
      ],
      "metadata": {
        "colab": {
          "base_uri": "https://localhost:8080/"
        },
        "id": "GCNvlxRqKKFZ",
        "outputId": "ea0b19f2-6aa2-40bc-de4b-539e7188fbc6"
      },
      "id": "GCNvlxRqKKFZ",
      "execution_count": 13,
      "outputs": [
        {
          "output_type": "stream",
          "name": "stdout",
          "text": [
            "{'train': Dataset({\n",
            "    features: ['flash fire .', 'فلاش آتش .'],\n",
            "    num_rows: 400320\n",
            "})}\n",
            "Dataset({\n",
            "    features: ['persian', 'english'],\n",
            "    num_rows: 400320\n",
            "})\n"
          ]
        }
      ]
    },
    {
      "cell_type": "markdown",
      "source": [
        "### 4.5: Cleaning helpers (Persian normalizer + English lite cleaning)"
      ],
      "metadata": {
        "id": "2JRJB26MaCyl"
      },
      "id": "2JRJB26MaCyl"
    },
    {
      "cell_type": "code",
      "source": [
        "normalizer = Normalizer()\n",
        "\n",
        "# Maps Arabic to Persian chars\n",
        "AR_TO_FA = {'\\u064A': '\\u06CC', '\\u0643': '\\u06A9'}\n",
        "# Zero-width and invisible characters\n",
        "ZERO_WIDTH = ['\\u200c', '\\u200f', '\\u202a', '\\u202b']\n",
        "\n",
        "PERSIAN_DIGITS = '۰۱۲۳۴۵۶۷۸۹'\n",
        "ASCII_DIGITS = '0123456789'\n",
        "\n",
        "# Persian + English stopwords\n",
        "persian_stopwords = set(stopwords_list())\n",
        "english_stopwords = set(stopwords.words(\"english\"))\n",
        "\n",
        "# --- Cleaning functions ---\n",
        "def replace_arabic_chars(text):\n",
        "    for a, f in AR_TO_FA.items():\n",
        "        text = text.replace(a, f)\n",
        "    return text\n",
        "\n",
        "def remove_zero_width(text):\n",
        "    for zw in ZERO_WIDTH:\n",
        "        text = text.replace(zw, \" \")\n",
        "    return text\n",
        "\n",
        "def normalize_digits(text):\n",
        "    for fa, en in zip(PERSIAN_DIGITS, ASCII_DIGITS):\n",
        "        text = text.replace(fa, en)\n",
        "    return text\n",
        "\n",
        "def clean_html(text):\n",
        "    return re.sub(r\"<.*?>\", \" \", text)\n",
        "\n",
        "def clean_urls(text):\n",
        "    return re.sub(r\"http\\S+|www\\.\\S+\", \" \", text)\n",
        "\n",
        "def remove_unwanted_chars(text):\n",
        "    # Keep Persian, English letters, and basic spaces\n",
        "    return re.sub(r\"[^آ-یA-Za-z0-9\\s]\", \" \", text)\n",
        "\n",
        "def remove_extra_spaces(text):\n",
        "    return re.sub(r\"\\s+\", \" \", text).strip()\n",
        "\n",
        "\n",
        "def remove_stopwords(text):\n",
        "    tokens = word_tokenize(text)\n",
        "    tokens = [t for t in tokens if t not in persian_stopwords and t.lower() not in english_stopwords]\n",
        "    return \" \".join(tokens)\n",
        "\n"
      ],
      "metadata": {
        "id": "bRTWAQKAY6Ve"
      },
      "id": "bRTWAQKAY6Ve",
      "execution_count": 14,
      "outputs": []
    },
    {
      "cell_type": "code",
      "source": [
        "def clean_persian(text):\n",
        "    if text is None: return \"\"\n",
        "    text = str(text)\n",
        "    text = text.replace(\"٫\", \" \")\n",
        "    text = text.replace(\",\", \" \")\n",
        "    text = clean_html(text)\n",
        "    text = clean_urls(text)\n",
        "    text = replace_arabic_chars(text)\n",
        "    text = remove_zero_width(text)\n",
        "    text = normalize_digits(text)\n",
        "    text = normalizer.normalize(text)\n",
        "    text = normalize_digits(text)\n",
        "    text = remove_unwanted_chars(text)\n",
        "    text = remove_extra_spaces(text)\n",
        "    #text = remove_stopwords(text)\n",
        "    return text\n",
        "\n",
        "def clean_english(text):\n",
        "    if text is None: return \"\"\n",
        "    text = str(text).strip()\n",
        "    text = text.replace(\"٫\", \" \")\n",
        "    text = text.replace(\",\", \" \")\n",
        "    # optional: lowercasing (depends if you want to preserve casing)\n",
        "    text = text.lower()\n",
        "    text = re.sub(r'\\s+', ' ', text)\n",
        "    text = clean_html(text)\n",
        "    text = clean_urls(text)\n",
        "    text = remove_zero_width(text)\n",
        "    text = normalizer.normalize(text)\n",
        "    text = normalize_digits(text)\n",
        "    text = remove_unwanted_chars(text)\n",
        "    text = remove_extra_spaces(text)\n",
        "    #text = remove_stopwords(text)\n",
        "    return text\n",
        "\n",
        "# Quick test\n",
        "print(clean_persian(\"این٫  ۱۲۳ کتاب‌ هاست‎\"))\n",
        "print(clean_english(\" This IS  ,a Test! \"))\n",
        "print(clean_persian(\" کاتالوگ 4 5۵, ٫ مگابایت\"))\n",
        "print(clean_english(\" کاتالوگ ۵۴ 7, ٫ مگابایت\"))"
      ],
      "metadata": {
        "colab": {
          "base_uri": "https://localhost:8080/"
        },
        "id": "i_g3l20cLy15",
        "outputId": "64c2c016-7bd0-4d37-95ad-a5795fa39f7f"
      },
      "id": "i_g3l20cLy15",
      "execution_count": 15,
      "outputs": [
        {
          "output_type": "stream",
          "name": "stdout",
          "text": [
            "این 123 کتاب هاست\n",
            "this is a test\n",
            "کاتالوگ 4 55 مگابایت\n",
            "کاتالوگ 54 7 مگابایت\n"
          ]
        }
      ]
    },
    {
      "cell_type": "markdown",
      "source": [
        "### 4.6: Apply cleaning"
      ],
      "metadata": {
        "id": "8mN-koSPZ8pD"
      },
      "id": "8mN-koSPZ8pD"
    },
    {
      "cell_type": "code",
      "source": [
        "# Apply cleaning to dataset (use num_proc if Colab CPU allows parallelism)\n",
        "def clean_example(ex):\n",
        "    return {\n",
        "        \"persian\": clean_persian(ex[\"persian\"]),\n",
        "        \"english\": clean_english(ex[\"english\"])\n",
        "    }\n",
        "\n",
        "print(\"Cleaning dataset (batched)...\")\n",
        "ds_clean = ds_simple.map(clean_example, batched=False)  # batched=True can be faster but needs function change\n",
        "print(\"After cleaning sample:\", ds_clean[0])"
      ],
      "metadata": {
        "id": "xjGPDs0EZwfO",
        "colab": {
          "base_uri": "https://localhost:8080/"
        },
        "outputId": "9f48ba38-fd6b-4f05-c76f-d15458960b91"
      },
      "id": "xjGPDs0EZwfO",
      "execution_count": 16,
      "outputs": [
        {
          "output_type": "stream",
          "name": "stdout",
          "text": [
            "Cleaning dataset (batched)...\n",
            "After cleaning sample: {'persian': 'بابابالو در 30 ژوئن 2011 ساعت 22 40 دقیقه گفت', 'english': 'bababaloo on 30 june 2011 at 22 h 40 minutes said'}\n"
          ]
        }
      ]
    },
    {
      "cell_type": "code",
      "source": [
        "# Filter out empty or too-long sentences (token-length heuristics)\n",
        "MAX_CHARS = 512\n",
        "def filter_empty_or_long(ex):\n",
        "    if ex[\"persian\"].strip()==\"\" or ex[\"english\"].strip()==\"\":\n",
        "        return False\n",
        "    if len(ex[\"persian\"]) > MAX_CHARS or len(ex[\"english\"]) > MAX_CHARS:\n",
        "        return False\n",
        "    return True\n",
        "\n",
        "ds_clean = ds_clean.filter(filter_empty_or_long)\n",
        "print(\"Size after filter:\", len(ds_clean))"
      ],
      "metadata": {
        "colab": {
          "base_uri": "https://localhost:8080/"
        },
        "id": "qYiE4AX5nHTP",
        "outputId": "081e02a3-e2b1-4b3a-b3ca-a46bd30e9f86"
      },
      "id": "qYiE4AX5nHTP",
      "execution_count": 17,
      "outputs": [
        {
          "output_type": "stream",
          "name": "stdout",
          "text": [
            "Size after filter: 399355\n"
          ]
        }
      ]
    },
    {
      "cell_type": "code",
      "source": [
        "print(\"some examples:\")\n",
        "\n",
        "for i in range(5):\n",
        "  print(f\"\\n {i}-raw:\" ,(ds[split_name][i]))\n",
        "  print(f\"\\n {i}-Pe_En:\" ,(ds_simple[i]))\n",
        "  print(f\"\\n {i}-clean:\" ,(ds_clean[i]))\n",
        "  print(f\"\\n\")"
      ],
      "metadata": {
        "colab": {
          "base_uri": "https://localhost:8080/"
        },
        "id": "tXozs4GdNcjc",
        "outputId": "0deb48af-201f-47bb-dc15-f08a4f905a30"
      },
      "id": "tXozs4GdNcjc",
      "execution_count": 18,
      "outputs": [
        {
          "output_type": "stream",
          "name": "stdout",
          "text": [
            "some examples:\n",
            "\n",
            " 0-raw: {'flash fire .': 'Bababaloo on 30 June 2011 at 22 h 40 minutes said:', 'فلاش آتش .': 'بابابالو در 30 ژوئن 2011 ساعت 22 : 40 دقیقه گفت :'}\n",
            "\n",
            " 0-Pe_En: {'persian': 'بابابالو در 30 ژوئن 2011 ساعت 22 : 40 دقیقه گفت :', 'english': 'Bababaloo on 30 June 2011 at 22 h 40 minutes said:'}\n",
            "\n",
            " 0-clean: {'persian': 'بابابالو در 30 ژوئن 2011 ساعت 22 40 دقیقه گفت', 'english': 'bababaloo on 30 june 2011 at 22 h 40 minutes said'}\n",
            "\n",
            "\n",
            "\n",
            " 1-raw: {'flash fire .': 'After the chicken was put on paper towels, she went on out to the back porch with her guitar, sat down, and began to play.', 'فلاش آتش .': 'بعد از اینکه مرغ را روی دستمال کاغذی گذاشتند ، با گیتار به ایوان پشتی رفت و نشست و شروع به نواختن کرد .'}\n",
            "\n",
            " 1-Pe_En: {'persian': 'بعد از اینکه مرغ را روی دستمال کاغذی گذاشتند ، با گیتار به ایوان پشتی رفت و نشست و شروع به نواختن کرد .', 'english': 'After the chicken was put on paper towels, she went on out to the back porch with her guitar, sat down, and began to play.'}\n",
            "\n",
            " 1-clean: {'persian': 'بعد از اینکه مرغ را روی دستمال کاغذی گذاشتند با گیتار به ایوان پشتی رفت و نشست و شروع به نواختن کرد', 'english': 'after the chicken was put on paper towels she went on out to the back porch with her guitar sat down and began to play'}\n",
            "\n",
            "\n",
            "\n",
            " 2-raw: {'flash fire .': 'To purchase the goods please choose the preferable way.', 'فلاش آتش .': 'برای خرید کالا لطفا راه ترجیحی را انتخاب کنید .'}\n",
            "\n",
            " 2-Pe_En: {'persian': 'برای خرید کالا لطفا راه ترجیحی را انتخاب کنید .', 'english': 'To purchase the goods please choose the preferable way.'}\n",
            "\n",
            " 2-clean: {'persian': 'برای خرید کالا لطفا راه ترجیحی را انتخاب کنید', 'english': 'to purchase the goods please choose the preferable way'}\n",
            "\n",
            "\n",
            "\n",
            " 3-raw: {'flash fire .': 'A venture capital fund management company is a company that only manages venture capital funds.', 'فلاش آتش .': 'شرکت مدیریت صندوق سرمایه گذاری خطرپذیر شرکتی است که فقط صندوق های سرمایه گذاری خطرپذیر را مدیریت می کند .'}\n",
            "\n",
            " 3-Pe_En: {'persian': 'شرکت مدیریت صندوق سرمایه گذاری خطرپذیر شرکتی است که فقط صندوق های سرمایه گذاری خطرپذیر را مدیریت می کند .', 'english': 'A venture capital fund management company is a company that only manages venture capital funds.'}\n",
            "\n",
            " 3-clean: {'persian': 'شرکت مدیریت صندوق سرمایه گذاری خطرپذیر شرکتی است که فقط صندوق های سرمایه گذاری خطرپذیر را مدیریت می کند', 'english': 'a venture capital fund management company is a company that only manages venture capital funds'}\n",
            "\n",
            "\n",
            "\n",
            " 4-raw: {'flash fire .': 'he can he can stay .', 'فلاش آتش .': 'او می تواند او می تواند بماند .'}\n",
            "\n",
            " 4-Pe_En: {'persian': 'او می تواند او می تواند بماند .', 'english': 'he can he can stay .'}\n",
            "\n",
            " 4-clean: {'persian': 'او می تواند او می تواند بماند', 'english': 'he can he can stay'}\n",
            "\n",
            "\n"
          ]
        }
      ]
    },
    {
      "cell_type": "markdown",
      "source": [
        "### 4.6: Apply cleaning with removing stop-words"
      ],
      "metadata": {
        "id": "Nc-86RkPn3WD"
      },
      "id": "Nc-86RkPn3WD"
    },
    {
      "cell_type": "code",
      "source": [
        "def clean_stopwords_persian(text):\n",
        "    if text is None: return \"\"\n",
        "    text = remove_stopwords(text)\n",
        "    return text\n",
        "\n",
        "def clean_stopwords_english(text):\n",
        "    if text is None: return \"\"\n",
        "    text = remove_stopwords(text)\n",
        "    return text\n",
        "\n",
        "# Quick test\n",
        "print(clean_stopwords_persian(clean_persian(\"این٫  ۱۲۳ کتاب‌ هاست‎\")))\n",
        "print(clean_stopwords_english(clean_english(\" This IS  ,a Test! \")))\n",
        "print(clean_stopwords_persian(clean_persian(\" کاتالوگ, ٫ مگابایت\")))\n",
        "print(clean_stopwords_english(clean_english(\" کاتالوگ, ٫ مگابایت\")))"
      ],
      "metadata": {
        "colab": {
          "base_uri": "https://localhost:8080/"
        },
        "id": "-4fg8n50n-2C",
        "outputId": "6ca77a50-7b04-45ef-9267-c64aa8059ed0"
      },
      "id": "-4fg8n50n-2C",
      "execution_count": 19,
      "outputs": [
        {
          "output_type": "stream",
          "name": "stdout",
          "text": [
            "123 کتاب هاست\n",
            "test\n",
            "کاتالوگ مگابایت\n",
            "کاتالوگ مگابایت\n"
          ]
        }
      ]
    },
    {
      "cell_type": "code",
      "source": [
        "# Apply stop-words cleaning to dataset (use num_proc if Colab CPU allows parallelism)\n",
        "def clean_example(ex):\n",
        "    return {\n",
        "        \"persian\": clean_stopwords_persian(ex[\"persian\"]),\n",
        "        \"english\": clean_stopwords_english(ex[\"english\"])\n",
        "    }\n",
        "\n",
        "print(\"Cleaning dataset ...\")\n",
        "ds_stopwords_clean = ds_clean.map(clean_example, batched=False)  # batched=True can be faster but needs function change\n",
        "print(\"After stop-words cleaning sample:\", ds_stopwords_clean[0])"
      ],
      "metadata": {
        "colab": {
          "base_uri": "https://localhost:8080/"
        },
        "id": "1bOJHWo6oOdB",
        "outputId": "5d43c530-9966-4989-ab9a-d0d1483d44dd"
      },
      "id": "1bOJHWo6oOdB",
      "execution_count": 20,
      "outputs": [
        {
          "output_type": "stream",
          "name": "stdout",
          "text": [
            "Cleaning dataset ...\n",
            "After stop-words cleaning sample: {'persian': 'بابابالو 30 ژوئن 2011 ساعت 22 40 دقیقه', 'english': 'bababaloo 30 june 2011 22 h 40 minutes said'}\n"
          ]
        }
      ]
    },
    {
      "cell_type": "code",
      "source": [
        "print(\"some examples:\")\n",
        "\n",
        "for i in range(5):\n",
        "  print(f\"\\n {i}-raw:\" ,(ds[split_name][i]))\n",
        "  #print(f\"\\n {i}-Pe_En:\" ,(ds_simple[i]))\n",
        "  print(f\"\\n {i}-clean:\" ,(ds_clean[i]))\n",
        "  print(f\"\\n {i}-clean_stopwords:\" ,(ds_stopwords_clean[i]))\n",
        "  print(f\"\\n\")"
      ],
      "metadata": {
        "colab": {
          "base_uri": "https://localhost:8080/"
        },
        "id": "WaJD1e-eoyas",
        "outputId": "707b756f-4253-40fa-ac9d-4a0ad5c293ca"
      },
      "id": "WaJD1e-eoyas",
      "execution_count": 21,
      "outputs": [
        {
          "output_type": "stream",
          "name": "stdout",
          "text": [
            "some examples:\n",
            "\n",
            " 0-raw: {'flash fire .': 'Bababaloo on 30 June 2011 at 22 h 40 minutes said:', 'فلاش آتش .': 'بابابالو در 30 ژوئن 2011 ساعت 22 : 40 دقیقه گفت :'}\n",
            "\n",
            " 0-clean: {'persian': 'بابابالو در 30 ژوئن 2011 ساعت 22 40 دقیقه گفت', 'english': 'bababaloo on 30 june 2011 at 22 h 40 minutes said'}\n",
            "\n",
            " 0-clean_stopwords: {'persian': 'بابابالو 30 ژوئن 2011 ساعت 22 40 دقیقه', 'english': 'bababaloo 30 june 2011 22 h 40 minutes said'}\n",
            "\n",
            "\n",
            "\n",
            " 1-raw: {'flash fire .': 'After the chicken was put on paper towels, she went on out to the back porch with her guitar, sat down, and began to play.', 'فلاش آتش .': 'بعد از اینکه مرغ را روی دستمال کاغذی گذاشتند ، با گیتار به ایوان پشتی رفت و نشست و شروع به نواختن کرد .'}\n",
            "\n",
            " 1-clean: {'persian': 'بعد از اینکه مرغ را روی دستمال کاغذی گذاشتند با گیتار به ایوان پشتی رفت و نشست و شروع به نواختن کرد', 'english': 'after the chicken was put on paper towels she went on out to the back porch with her guitar sat down and began to play'}\n",
            "\n",
            " 1-clean_stopwords: {'persian': 'مرغ دستمال کاغذی گذاشتند گیتار ایوان پشتی نواختن', 'english': 'chicken put paper towels went back porch guitar sat began play'}\n",
            "\n",
            "\n",
            "\n",
            " 2-raw: {'flash fire .': 'To purchase the goods please choose the preferable way.', 'فلاش آتش .': 'برای خرید کالا لطفا راه ترجیحی را انتخاب کنید .'}\n",
            "\n",
            " 2-clean: {'persian': 'برای خرید کالا لطفا راه ترجیحی را انتخاب کنید', 'english': 'to purchase the goods please choose the preferable way'}\n",
            "\n",
            " 2-clean_stopwords: {'persian': 'خرید کالا لطفا ترجیحی انتخاب', 'english': 'purchase goods please choose preferable way'}\n",
            "\n",
            "\n",
            "\n",
            " 3-raw: {'flash fire .': 'A venture capital fund management company is a company that only manages venture capital funds.', 'فلاش آتش .': 'شرکت مدیریت صندوق سرمایه گذاری خطرپذیر شرکتی است که فقط صندوق های سرمایه گذاری خطرپذیر را مدیریت می کند .'}\n",
            "\n",
            " 3-clean: {'persian': 'شرکت مدیریت صندوق سرمایه گذاری خطرپذیر شرکتی است که فقط صندوق های سرمایه گذاری خطرپذیر را مدیریت می کند', 'english': 'a venture capital fund management company is a company that only manages venture capital funds'}\n",
            "\n",
            " 3-clean_stopwords: {'persian': 'شرکت مدیریت صندوق سرمایه خطرپذیر شرکتی صندوق های سرمایه خطرپذیر مدیریت', 'english': 'venture capital fund management company company manages venture capital funds'}\n",
            "\n",
            "\n",
            "\n",
            " 4-raw: {'flash fire .': 'he can he can stay .', 'فلاش آتش .': 'او می تواند او می تواند بماند .'}\n",
            "\n",
            " 4-clean: {'persian': 'او می تواند او می تواند بماند', 'english': 'he can he can stay'}\n",
            "\n",
            " 4-clean_stopwords: {'persian': 'تواند تواند بماند', 'english': 'stay'}\n",
            "\n",
            "\n"
          ]
        }
      ]
    },
    {
      "cell_type": "markdown",
      "source": [
        "### 4.8: Create train/validation/test splits"
      ],
      "metadata": {
        "id": "tQe3XlzNazuD"
      },
      "id": "tQe3XlzNazuD"
    },
    {
      "cell_type": "markdown",
      "source": [
        "**4.8.1: ds_clean**"
      ],
      "metadata": {
        "id": "2NLB29IDrTH2"
      },
      "id": "2NLB29IDrTH2"
    },
    {
      "cell_type": "code",
      "source": [
        "def split_dataset(ds_clean, seed: int = 42):\n",
        "\n",
        "    total = len(ds_clean)\n",
        "    print(\"Total pairs:\", total)\n",
        "\n",
        "    if total > 1000:\n",
        "        # Large dataset: ~3% holdout, split into val/test (1.5% each)\n",
        "        split1 = ds_clean.train_test_split(test_size=0.03, seed=seed, shuffle=True)\n",
        "        hold = split1['test'].train_test_split(test_size=0.5, seed=seed)\n",
        "        dataset_splits = DatasetDict({\n",
        "            'train': split1['train'],\n",
        "            'validation': hold['train'],\n",
        "            'test': hold['test']\n",
        "        })\n",
        "    else:\n",
        "        # Small dataset: 80/10/10\n",
        "        split1 = ds_clean.train_test_split(test_size=0.2, seed=seed, shuffle=True)\n",
        "        hold = split1['test'].train_test_split(test_size=0.5, seed=seed)\n",
        "        dataset_splits = DatasetDict({\n",
        "            'train': split1['train'],\n",
        "            'validation': hold['train'],\n",
        "            'test': hold['test']\n",
        "        })\n",
        "\n",
        "    # Print sizes\n",
        "    for k in dataset_splits:\n",
        "        print(f\"{k}: {len(dataset_splits[k])}\")\n",
        "\n",
        "    # Peek at one example\n",
        "    print(\"\\nExample pair (train[10]):\")\n",
        "    print(dataset_splits['train'][10])\n",
        "\n",
        "    return dataset_splits\n"
      ],
      "metadata": {
        "id": "0t8j2Kxhwgyb"
      },
      "id": "0t8j2Kxhwgyb",
      "execution_count": 22,
      "outputs": []
    },
    {
      "cell_type": "code",
      "source": [
        "dataset_splits = split_dataset(ds_clean)"
      ],
      "metadata": {
        "id": "GwdmQ9Nea4Y2",
        "colab": {
          "base_uri": "https://localhost:8080/"
        },
        "outputId": "e090520b-1eca-458e-cf91-dec363068523"
      },
      "id": "GwdmQ9Nea4Y2",
      "execution_count": 23,
      "outputs": [
        {
          "output_type": "stream",
          "name": "stdout",
          "text": [
            "Total pairs: 399355\n",
            "train: 387374\n",
            "validation: 5990\n",
            "test: 5991\n",
            "\n",
            "Example pair (train[10]):\n",
            "{'persian': 'به همین ترتیب مانند گناه یک انسان محکومیت بر همه انسان ها وارد شد و به همین ترتیب با عدالت یک نفر پیروزی زندگی برای همه مردم خواهد بود', 'english': 'in like manner as by one man s offence condemnation came upon all men even so by the righteousness of one man will the victory to life be to all men'}\n"
          ]
        }
      ]
    },
    {
      "cell_type": "code",
      "source": [
        "# If you want to implement \"Stop-words Removing\"\n",
        "#dataset_splits = split_dataset(ds_stopwords_clean)"
      ],
      "metadata": {
        "id": "Qbzbuy3xxFHF"
      },
      "id": "Qbzbuy3xxFHF",
      "execution_count": 24,
      "outputs": []
    },
    {
      "cell_type": "markdown",
      "source": [
        "### 4.8: Save to disk / optional Google Drive mount"
      ],
      "metadata": {
        "id": "nIRHmhm7bS6U"
      },
      "id": "nIRHmhm7bS6U"
    },
    {
      "cell_type": "code",
      "source": [
        "# Option A: save to Colab local storage\n",
        "os.makedirs(\"data\", exist_ok=True)\n",
        "dataset_splits['train'].to_csv(\"data/train.csv\")\n",
        "dataset_splits['validation'].to_csv(\"data/validation.csv\")\n",
        "dataset_splits['test'].to_csv(\"data/test.csv\")\n",
        "print(\"Saved CSVs to ./data/\")"
      ],
      "metadata": {
        "id": "Udn4bc_Xa4A5",
        "colab": {
          "base_uri": "https://localhost:8080/",
          "height": 130,
          "referenced_widgets": [
            "d8244f5e2a4c42ffa015b1b74366f475",
            "97c3c73c71f04bc980b8e99ef11b3538",
            "eaaaabed87b34f1eb71012c1120fab19",
            "d77cd340e6f7476db0fb7f1a2c7a0885",
            "bfbb6105f20449da83d99a05e13e9c5c",
            "1244ec27b32f426b841fb23defa6dae5",
            "7b0df80ce00c451f86993693089ecfef",
            "96b87d3ff93549d0932cd50b202b353f",
            "1ca885a9fd4a49b9977a5abb4164e3a2",
            "6d052b5f289a4f8392611610b8e59b78",
            "15b4a58cdaf841adb73e5006d7165c03",
            "a5d0de4b8c48494e99f9bb6bce5ee6c5",
            "1a647ddfcbe842ed9e6c74451472ed62",
            "9b7ead58b2d24a108f666460310a4dd2",
            "e83dab8da3544fc1957edcdfe856383e",
            "d81328e6326146d6bc4eaa8dc6f8e8c9",
            "f63fb9477a2a4a17b3c903898c1f3677",
            "e49186f5c3ca45cbaef0b9dfa9cf168f",
            "e9848b2327ae49968d6a444be84b4747",
            "b53834a874494119a320a58ff79e020b",
            "2cadb21bbcac48949c728032eb48d1eb",
            "15ed5400429d440692410012cca059ad",
            "8a92f2231b2e4072aa421d090ca56b4f",
            "28930fce52ec48e79a4a3f0e93ab7dd7",
            "5318dd8179c14870a6a7a706bce1d748",
            "50c8cc421e2842e78d11770b52c0cca3",
            "d8767460cf1d4ce7945ee93b8562d79d",
            "c9171ddd58334692a8b5f24179ffd615",
            "8afbf41977c249e4854d8deb57b2d920",
            "c70cefefd7784b6ca4393d82f7db8798",
            "12b9d92b67d64854b07a7b332509518a",
            "c0b5643706b04ceb942b66f0c5e2321f",
            "59f58d251ae342f3802ff089fe0e24f5"
          ]
        },
        "outputId": "46957738-bd85-400f-a183-00bb9a3e27b8"
      },
      "id": "Udn4bc_Xa4A5",
      "execution_count": 25,
      "outputs": [
        {
          "output_type": "display_data",
          "data": {
            "text/plain": [
              "Creating CSV from Arrow format:   0%|          | 0/388 [00:00<?, ?ba/s]"
            ],
            "application/vnd.jupyter.widget-view+json": {
              "version_major": 2,
              "version_minor": 0,
              "model_id": "d8244f5e2a4c42ffa015b1b74366f475"
            }
          },
          "metadata": {}
        },
        {
          "output_type": "display_data",
          "data": {
            "text/plain": [
              "Creating CSV from Arrow format:   0%|          | 0/6 [00:00<?, ?ba/s]"
            ],
            "application/vnd.jupyter.widget-view+json": {
              "version_major": 2,
              "version_minor": 0,
              "model_id": "a5d0de4b8c48494e99f9bb6bce5ee6c5"
            }
          },
          "metadata": {}
        },
        {
          "output_type": "display_data",
          "data": {
            "text/plain": [
              "Creating CSV from Arrow format:   0%|          | 0/6 [00:00<?, ?ba/s]"
            ],
            "application/vnd.jupyter.widget-view+json": {
              "version_major": 2,
              "version_minor": 0,
              "model_id": "8a92f2231b2e4072aa421d090ca56b4f"
            }
          },
          "metadata": {}
        },
        {
          "output_type": "stream",
          "name": "stdout",
          "text": [
            "Saved CSVs to ./data/\n"
          ]
        }
      ]
    },
    {
      "cell_type": "code",
      "source": [
        "# Option B: save to Google Drive (uncomment to use)\n",
        "'''\n",
        "from google.colab import drive\n",
        "drive.mount('/content/drive')\n",
        "out_dir = \"/content/drive/MyDrive/persian_translation_dataset\"\n",
        "os.makedirs(out_dir, exist_ok=True)\n",
        "dataset_splits['train'].to_csv(os.path.join(out_dir,\"train.csv\"))\n",
        "dataset_splits['validation'].to_csv(os.path.join(out_dir,\"validation.csv\"))\n",
        "dataset_splits['test'].to_csv(os.path.join(out_dir,\"test.csv\"))\n",
        "print(\"Saved CSVs to Google Drive:\", out_dir)\n",
        "'''"
      ],
      "metadata": {
        "id": "Mc9Kk6LU9F5V",
        "colab": {
          "base_uri": "https://localhost:8080/",
          "height": 70
        },
        "outputId": "39d63b6f-d1ad-464e-af78-1adc307ad304"
      },
      "id": "Mc9Kk6LU9F5V",
      "execution_count": 26,
      "outputs": [
        {
          "output_type": "execute_result",
          "data": {
            "text/plain": [
              "'\\nfrom google.colab import drive\\ndrive.mount(\\'/content/drive\\')\\nout_dir = \"/content/drive/MyDrive/persian_translation_dataset\"\\nos.makedirs(out_dir, exist_ok=True)\\ndataset_splits[\\'train\\'].to_csv(os.path.join(out_dir,\"train.csv\"))\\ndataset_splits[\\'validation\\'].to_csv(os.path.join(out_dir,\"validation.csv\"))\\ndataset_splits[\\'test\\'].to_csv(os.path.join(out_dir,\"test.csv\"))\\nprint(\"Saved CSVs to Google Drive:\", out_dir)\\n'"
            ],
            "application/vnd.google.colaboratory.intrinsic+json": {
              "type": "string"
            }
          },
          "metadata": {},
          "execution_count": 26
        }
      ]
    },
    {
      "cell_type": "markdown",
      "id": "cdf03190",
      "metadata": {
        "id": "cdf03190"
      },
      "source": [
        "## 5. POS tagging (Hazm)"
      ]
    },
    {
      "cell_type": "markdown",
      "id": "e76f950a",
      "metadata": {
        "id": "e76f950a"
      },
      "source": [
        "## 6. Named Entity Recognition"
      ]
    },
    {
      "cell_type": "markdown",
      "id": "b4a8ab1b",
      "metadata": {
        "id": "b4a8ab1b"
      },
      "source": [
        "## 7. Tokenization & embedding"
      ]
    },
    {
      "cell_type": "markdown",
      "id": "c7a99d07",
      "metadata": {
        "id": "c7a99d07"
      },
      "source": [
        "## 8. Seq2Seq model"
      ]
    },
    {
      "cell_type": "markdown",
      "id": "a9640856",
      "metadata": {
        "id": "a9640856"
      },
      "source": [
        "## 9. Evaluation"
      ]
    },
    {
      "cell_type": "markdown",
      "id": "dbb8ed52",
      "metadata": {
        "id": "dbb8ed52"
      },
      "source": [
        "## End of Notebook\n",
        "This Colab notebook covers preprocessing, POS tagging, NER, tokenization, Seq2Seq model, and evaluation."
      ]
    },
    {
      "cell_type": "code",
      "source": [],
      "metadata": {
        "id": "aAtpXXIMxZNQ"
      },
      "id": "aAtpXXIMxZNQ",
      "execution_count": 26,
      "outputs": []
    }
  ],
  "metadata": {
    "colab": {
      "provenance": [],
      "gpuType": "T4"
    },
    "language_info": {
      "name": "python"
    },
    "kernelspec": {
      "name": "python3",
      "display_name": "Python 3"
    },
    "widgets": {
      "application/vnd.jupyter.widget-state+json": {
        "d8244f5e2a4c42ffa015b1b74366f475": {
          "model_module": "@jupyter-widgets/controls",
          "model_name": "HBoxModel",
          "model_module_version": "1.5.0",
          "state": {
            "_dom_classes": [],
            "_model_module": "@jupyter-widgets/controls",
            "_model_module_version": "1.5.0",
            "_model_name": "HBoxModel",
            "_view_count": null,
            "_view_module": "@jupyter-widgets/controls",
            "_view_module_version": "1.5.0",
            "_view_name": "HBoxView",
            "box_style": "",
            "children": [
              "IPY_MODEL_97c3c73c71f04bc980b8e99ef11b3538",
              "IPY_MODEL_eaaaabed87b34f1eb71012c1120fab19",
              "IPY_MODEL_d77cd340e6f7476db0fb7f1a2c7a0885"
            ],
            "layout": "IPY_MODEL_bfbb6105f20449da83d99a05e13e9c5c"
          }
        },
        "97c3c73c71f04bc980b8e99ef11b3538": {
          "model_module": "@jupyter-widgets/controls",
          "model_name": "HTMLModel",
          "model_module_version": "1.5.0",
          "state": {
            "_dom_classes": [],
            "_model_module": "@jupyter-widgets/controls",
            "_model_module_version": "1.5.0",
            "_model_name": "HTMLModel",
            "_view_count": null,
            "_view_module": "@jupyter-widgets/controls",
            "_view_module_version": "1.5.0",
            "_view_name": "HTMLView",
            "description": "",
            "description_tooltip": null,
            "layout": "IPY_MODEL_1244ec27b32f426b841fb23defa6dae5",
            "placeholder": "​",
            "style": "IPY_MODEL_7b0df80ce00c451f86993693089ecfef",
            "value": "Creating CSV from Arrow format: 100%"
          }
        },
        "eaaaabed87b34f1eb71012c1120fab19": {
          "model_module": "@jupyter-widgets/controls",
          "model_name": "FloatProgressModel",
          "model_module_version": "1.5.0",
          "state": {
            "_dom_classes": [],
            "_model_module": "@jupyter-widgets/controls",
            "_model_module_version": "1.5.0",
            "_model_name": "FloatProgressModel",
            "_view_count": null,
            "_view_module": "@jupyter-widgets/controls",
            "_view_module_version": "1.5.0",
            "_view_name": "ProgressView",
            "bar_style": "success",
            "description": "",
            "description_tooltip": null,
            "layout": "IPY_MODEL_96b87d3ff93549d0932cd50b202b353f",
            "max": 388,
            "min": 0,
            "orientation": "horizontal",
            "style": "IPY_MODEL_1ca885a9fd4a49b9977a5abb4164e3a2",
            "value": 388
          }
        },
        "d77cd340e6f7476db0fb7f1a2c7a0885": {
          "model_module": "@jupyter-widgets/controls",
          "model_name": "HTMLModel",
          "model_module_version": "1.5.0",
          "state": {
            "_dom_classes": [],
            "_model_module": "@jupyter-widgets/controls",
            "_model_module_version": "1.5.0",
            "_model_name": "HTMLModel",
            "_view_count": null,
            "_view_module": "@jupyter-widgets/controls",
            "_view_module_version": "1.5.0",
            "_view_name": "HTMLView",
            "description": "",
            "description_tooltip": null,
            "layout": "IPY_MODEL_6d052b5f289a4f8392611610b8e59b78",
            "placeholder": "​",
            "style": "IPY_MODEL_15b4a58cdaf841adb73e5006d7165c03",
            "value": " 388/388 [00:13&lt;00:00, 31.66ba/s]"
          }
        },
        "bfbb6105f20449da83d99a05e13e9c5c": {
          "model_module": "@jupyter-widgets/base",
          "model_name": "LayoutModel",
          "model_module_version": "1.2.0",
          "state": {
            "_model_module": "@jupyter-widgets/base",
            "_model_module_version": "1.2.0",
            "_model_name": "LayoutModel",
            "_view_count": null,
            "_view_module": "@jupyter-widgets/base",
            "_view_module_version": "1.2.0",
            "_view_name": "LayoutView",
            "align_content": null,
            "align_items": null,
            "align_self": null,
            "border": null,
            "bottom": null,
            "display": null,
            "flex": null,
            "flex_flow": null,
            "grid_area": null,
            "grid_auto_columns": null,
            "grid_auto_flow": null,
            "grid_auto_rows": null,
            "grid_column": null,
            "grid_gap": null,
            "grid_row": null,
            "grid_template_areas": null,
            "grid_template_columns": null,
            "grid_template_rows": null,
            "height": null,
            "justify_content": null,
            "justify_items": null,
            "left": null,
            "margin": null,
            "max_height": null,
            "max_width": null,
            "min_height": null,
            "min_width": null,
            "object_fit": null,
            "object_position": null,
            "order": null,
            "overflow": null,
            "overflow_x": null,
            "overflow_y": null,
            "padding": null,
            "right": null,
            "top": null,
            "visibility": null,
            "width": null
          }
        },
        "1244ec27b32f426b841fb23defa6dae5": {
          "model_module": "@jupyter-widgets/base",
          "model_name": "LayoutModel",
          "model_module_version": "1.2.0",
          "state": {
            "_model_module": "@jupyter-widgets/base",
            "_model_module_version": "1.2.0",
            "_model_name": "LayoutModel",
            "_view_count": null,
            "_view_module": "@jupyter-widgets/base",
            "_view_module_version": "1.2.0",
            "_view_name": "LayoutView",
            "align_content": null,
            "align_items": null,
            "align_self": null,
            "border": null,
            "bottom": null,
            "display": null,
            "flex": null,
            "flex_flow": null,
            "grid_area": null,
            "grid_auto_columns": null,
            "grid_auto_flow": null,
            "grid_auto_rows": null,
            "grid_column": null,
            "grid_gap": null,
            "grid_row": null,
            "grid_template_areas": null,
            "grid_template_columns": null,
            "grid_template_rows": null,
            "height": null,
            "justify_content": null,
            "justify_items": null,
            "left": null,
            "margin": null,
            "max_height": null,
            "max_width": null,
            "min_height": null,
            "min_width": null,
            "object_fit": null,
            "object_position": null,
            "order": null,
            "overflow": null,
            "overflow_x": null,
            "overflow_y": null,
            "padding": null,
            "right": null,
            "top": null,
            "visibility": null,
            "width": null
          }
        },
        "7b0df80ce00c451f86993693089ecfef": {
          "model_module": "@jupyter-widgets/controls",
          "model_name": "DescriptionStyleModel",
          "model_module_version": "1.5.0",
          "state": {
            "_model_module": "@jupyter-widgets/controls",
            "_model_module_version": "1.5.0",
            "_model_name": "DescriptionStyleModel",
            "_view_count": null,
            "_view_module": "@jupyter-widgets/base",
            "_view_module_version": "1.2.0",
            "_view_name": "StyleView",
            "description_width": ""
          }
        },
        "96b87d3ff93549d0932cd50b202b353f": {
          "model_module": "@jupyter-widgets/base",
          "model_name": "LayoutModel",
          "model_module_version": "1.2.0",
          "state": {
            "_model_module": "@jupyter-widgets/base",
            "_model_module_version": "1.2.0",
            "_model_name": "LayoutModel",
            "_view_count": null,
            "_view_module": "@jupyter-widgets/base",
            "_view_module_version": "1.2.0",
            "_view_name": "LayoutView",
            "align_content": null,
            "align_items": null,
            "align_self": null,
            "border": null,
            "bottom": null,
            "display": null,
            "flex": null,
            "flex_flow": null,
            "grid_area": null,
            "grid_auto_columns": null,
            "grid_auto_flow": null,
            "grid_auto_rows": null,
            "grid_column": null,
            "grid_gap": null,
            "grid_row": null,
            "grid_template_areas": null,
            "grid_template_columns": null,
            "grid_template_rows": null,
            "height": null,
            "justify_content": null,
            "justify_items": null,
            "left": null,
            "margin": null,
            "max_height": null,
            "max_width": null,
            "min_height": null,
            "min_width": null,
            "object_fit": null,
            "object_position": null,
            "order": null,
            "overflow": null,
            "overflow_x": null,
            "overflow_y": null,
            "padding": null,
            "right": null,
            "top": null,
            "visibility": null,
            "width": null
          }
        },
        "1ca885a9fd4a49b9977a5abb4164e3a2": {
          "model_module": "@jupyter-widgets/controls",
          "model_name": "ProgressStyleModel",
          "model_module_version": "1.5.0",
          "state": {
            "_model_module": "@jupyter-widgets/controls",
            "_model_module_version": "1.5.0",
            "_model_name": "ProgressStyleModel",
            "_view_count": null,
            "_view_module": "@jupyter-widgets/base",
            "_view_module_version": "1.2.0",
            "_view_name": "StyleView",
            "bar_color": null,
            "description_width": ""
          }
        },
        "6d052b5f289a4f8392611610b8e59b78": {
          "model_module": "@jupyter-widgets/base",
          "model_name": "LayoutModel",
          "model_module_version": "1.2.0",
          "state": {
            "_model_module": "@jupyter-widgets/base",
            "_model_module_version": "1.2.0",
            "_model_name": "LayoutModel",
            "_view_count": null,
            "_view_module": "@jupyter-widgets/base",
            "_view_module_version": "1.2.0",
            "_view_name": "LayoutView",
            "align_content": null,
            "align_items": null,
            "align_self": null,
            "border": null,
            "bottom": null,
            "display": null,
            "flex": null,
            "flex_flow": null,
            "grid_area": null,
            "grid_auto_columns": null,
            "grid_auto_flow": null,
            "grid_auto_rows": null,
            "grid_column": null,
            "grid_gap": null,
            "grid_row": null,
            "grid_template_areas": null,
            "grid_template_columns": null,
            "grid_template_rows": null,
            "height": null,
            "justify_content": null,
            "justify_items": null,
            "left": null,
            "margin": null,
            "max_height": null,
            "max_width": null,
            "min_height": null,
            "min_width": null,
            "object_fit": null,
            "object_position": null,
            "order": null,
            "overflow": null,
            "overflow_x": null,
            "overflow_y": null,
            "padding": null,
            "right": null,
            "top": null,
            "visibility": null,
            "width": null
          }
        },
        "15b4a58cdaf841adb73e5006d7165c03": {
          "model_module": "@jupyter-widgets/controls",
          "model_name": "DescriptionStyleModel",
          "model_module_version": "1.5.0",
          "state": {
            "_model_module": "@jupyter-widgets/controls",
            "_model_module_version": "1.5.0",
            "_model_name": "DescriptionStyleModel",
            "_view_count": null,
            "_view_module": "@jupyter-widgets/base",
            "_view_module_version": "1.2.0",
            "_view_name": "StyleView",
            "description_width": ""
          }
        },
        "a5d0de4b8c48494e99f9bb6bce5ee6c5": {
          "model_module": "@jupyter-widgets/controls",
          "model_name": "HBoxModel",
          "model_module_version": "1.5.0",
          "state": {
            "_dom_classes": [],
            "_model_module": "@jupyter-widgets/controls",
            "_model_module_version": "1.5.0",
            "_model_name": "HBoxModel",
            "_view_count": null,
            "_view_module": "@jupyter-widgets/controls",
            "_view_module_version": "1.5.0",
            "_view_name": "HBoxView",
            "box_style": "",
            "children": [
              "IPY_MODEL_1a647ddfcbe842ed9e6c74451472ed62",
              "IPY_MODEL_9b7ead58b2d24a108f666460310a4dd2",
              "IPY_MODEL_e83dab8da3544fc1957edcdfe856383e"
            ],
            "layout": "IPY_MODEL_d81328e6326146d6bc4eaa8dc6f8e8c9"
          }
        },
        "1a647ddfcbe842ed9e6c74451472ed62": {
          "model_module": "@jupyter-widgets/controls",
          "model_name": "HTMLModel",
          "model_module_version": "1.5.0",
          "state": {
            "_dom_classes": [],
            "_model_module": "@jupyter-widgets/controls",
            "_model_module_version": "1.5.0",
            "_model_name": "HTMLModel",
            "_view_count": null,
            "_view_module": "@jupyter-widgets/controls",
            "_view_module_version": "1.5.0",
            "_view_name": "HTMLView",
            "description": "",
            "description_tooltip": null,
            "layout": "IPY_MODEL_f63fb9477a2a4a17b3c903898c1f3677",
            "placeholder": "​",
            "style": "IPY_MODEL_e49186f5c3ca45cbaef0b9dfa9cf168f",
            "value": "Creating CSV from Arrow format: 100%"
          }
        },
        "9b7ead58b2d24a108f666460310a4dd2": {
          "model_module": "@jupyter-widgets/controls",
          "model_name": "FloatProgressModel",
          "model_module_version": "1.5.0",
          "state": {
            "_dom_classes": [],
            "_model_module": "@jupyter-widgets/controls",
            "_model_module_version": "1.5.0",
            "_model_name": "FloatProgressModel",
            "_view_count": null,
            "_view_module": "@jupyter-widgets/controls",
            "_view_module_version": "1.5.0",
            "_view_name": "ProgressView",
            "bar_style": "success",
            "description": "",
            "description_tooltip": null,
            "layout": "IPY_MODEL_e9848b2327ae49968d6a444be84b4747",
            "max": 6,
            "min": 0,
            "orientation": "horizontal",
            "style": "IPY_MODEL_b53834a874494119a320a58ff79e020b",
            "value": 6
          }
        },
        "e83dab8da3544fc1957edcdfe856383e": {
          "model_module": "@jupyter-widgets/controls",
          "model_name": "HTMLModel",
          "model_module_version": "1.5.0",
          "state": {
            "_dom_classes": [],
            "_model_module": "@jupyter-widgets/controls",
            "_model_module_version": "1.5.0",
            "_model_name": "HTMLModel",
            "_view_count": null,
            "_view_module": "@jupyter-widgets/controls",
            "_view_module_version": "1.5.0",
            "_view_name": "HTMLView",
            "description": "",
            "description_tooltip": null,
            "layout": "IPY_MODEL_2cadb21bbcac48949c728032eb48d1eb",
            "placeholder": "​",
            "style": "IPY_MODEL_15ed5400429d440692410012cca059ad",
            "value": " 6/6 [00:00&lt;00:00, 27.74ba/s]"
          }
        },
        "d81328e6326146d6bc4eaa8dc6f8e8c9": {
          "model_module": "@jupyter-widgets/base",
          "model_name": "LayoutModel",
          "model_module_version": "1.2.0",
          "state": {
            "_model_module": "@jupyter-widgets/base",
            "_model_module_version": "1.2.0",
            "_model_name": "LayoutModel",
            "_view_count": null,
            "_view_module": "@jupyter-widgets/base",
            "_view_module_version": "1.2.0",
            "_view_name": "LayoutView",
            "align_content": null,
            "align_items": null,
            "align_self": null,
            "border": null,
            "bottom": null,
            "display": null,
            "flex": null,
            "flex_flow": null,
            "grid_area": null,
            "grid_auto_columns": null,
            "grid_auto_flow": null,
            "grid_auto_rows": null,
            "grid_column": null,
            "grid_gap": null,
            "grid_row": null,
            "grid_template_areas": null,
            "grid_template_columns": null,
            "grid_template_rows": null,
            "height": null,
            "justify_content": null,
            "justify_items": null,
            "left": null,
            "margin": null,
            "max_height": null,
            "max_width": null,
            "min_height": null,
            "min_width": null,
            "object_fit": null,
            "object_position": null,
            "order": null,
            "overflow": null,
            "overflow_x": null,
            "overflow_y": null,
            "padding": null,
            "right": null,
            "top": null,
            "visibility": null,
            "width": null
          }
        },
        "f63fb9477a2a4a17b3c903898c1f3677": {
          "model_module": "@jupyter-widgets/base",
          "model_name": "LayoutModel",
          "model_module_version": "1.2.0",
          "state": {
            "_model_module": "@jupyter-widgets/base",
            "_model_module_version": "1.2.0",
            "_model_name": "LayoutModel",
            "_view_count": null,
            "_view_module": "@jupyter-widgets/base",
            "_view_module_version": "1.2.0",
            "_view_name": "LayoutView",
            "align_content": null,
            "align_items": null,
            "align_self": null,
            "border": null,
            "bottom": null,
            "display": null,
            "flex": null,
            "flex_flow": null,
            "grid_area": null,
            "grid_auto_columns": null,
            "grid_auto_flow": null,
            "grid_auto_rows": null,
            "grid_column": null,
            "grid_gap": null,
            "grid_row": null,
            "grid_template_areas": null,
            "grid_template_columns": null,
            "grid_template_rows": null,
            "height": null,
            "justify_content": null,
            "justify_items": null,
            "left": null,
            "margin": null,
            "max_height": null,
            "max_width": null,
            "min_height": null,
            "min_width": null,
            "object_fit": null,
            "object_position": null,
            "order": null,
            "overflow": null,
            "overflow_x": null,
            "overflow_y": null,
            "padding": null,
            "right": null,
            "top": null,
            "visibility": null,
            "width": null
          }
        },
        "e49186f5c3ca45cbaef0b9dfa9cf168f": {
          "model_module": "@jupyter-widgets/controls",
          "model_name": "DescriptionStyleModel",
          "model_module_version": "1.5.0",
          "state": {
            "_model_module": "@jupyter-widgets/controls",
            "_model_module_version": "1.5.0",
            "_model_name": "DescriptionStyleModel",
            "_view_count": null,
            "_view_module": "@jupyter-widgets/base",
            "_view_module_version": "1.2.0",
            "_view_name": "StyleView",
            "description_width": ""
          }
        },
        "e9848b2327ae49968d6a444be84b4747": {
          "model_module": "@jupyter-widgets/base",
          "model_name": "LayoutModel",
          "model_module_version": "1.2.0",
          "state": {
            "_model_module": "@jupyter-widgets/base",
            "_model_module_version": "1.2.0",
            "_model_name": "LayoutModel",
            "_view_count": null,
            "_view_module": "@jupyter-widgets/base",
            "_view_module_version": "1.2.0",
            "_view_name": "LayoutView",
            "align_content": null,
            "align_items": null,
            "align_self": null,
            "border": null,
            "bottom": null,
            "display": null,
            "flex": null,
            "flex_flow": null,
            "grid_area": null,
            "grid_auto_columns": null,
            "grid_auto_flow": null,
            "grid_auto_rows": null,
            "grid_column": null,
            "grid_gap": null,
            "grid_row": null,
            "grid_template_areas": null,
            "grid_template_columns": null,
            "grid_template_rows": null,
            "height": null,
            "justify_content": null,
            "justify_items": null,
            "left": null,
            "margin": null,
            "max_height": null,
            "max_width": null,
            "min_height": null,
            "min_width": null,
            "object_fit": null,
            "object_position": null,
            "order": null,
            "overflow": null,
            "overflow_x": null,
            "overflow_y": null,
            "padding": null,
            "right": null,
            "top": null,
            "visibility": null,
            "width": null
          }
        },
        "b53834a874494119a320a58ff79e020b": {
          "model_module": "@jupyter-widgets/controls",
          "model_name": "ProgressStyleModel",
          "model_module_version": "1.5.0",
          "state": {
            "_model_module": "@jupyter-widgets/controls",
            "_model_module_version": "1.5.0",
            "_model_name": "ProgressStyleModel",
            "_view_count": null,
            "_view_module": "@jupyter-widgets/base",
            "_view_module_version": "1.2.0",
            "_view_name": "StyleView",
            "bar_color": null,
            "description_width": ""
          }
        },
        "2cadb21bbcac48949c728032eb48d1eb": {
          "model_module": "@jupyter-widgets/base",
          "model_name": "LayoutModel",
          "model_module_version": "1.2.0",
          "state": {
            "_model_module": "@jupyter-widgets/base",
            "_model_module_version": "1.2.0",
            "_model_name": "LayoutModel",
            "_view_count": null,
            "_view_module": "@jupyter-widgets/base",
            "_view_module_version": "1.2.0",
            "_view_name": "LayoutView",
            "align_content": null,
            "align_items": null,
            "align_self": null,
            "border": null,
            "bottom": null,
            "display": null,
            "flex": null,
            "flex_flow": null,
            "grid_area": null,
            "grid_auto_columns": null,
            "grid_auto_flow": null,
            "grid_auto_rows": null,
            "grid_column": null,
            "grid_gap": null,
            "grid_row": null,
            "grid_template_areas": null,
            "grid_template_columns": null,
            "grid_template_rows": null,
            "height": null,
            "justify_content": null,
            "justify_items": null,
            "left": null,
            "margin": null,
            "max_height": null,
            "max_width": null,
            "min_height": null,
            "min_width": null,
            "object_fit": null,
            "object_position": null,
            "order": null,
            "overflow": null,
            "overflow_x": null,
            "overflow_y": null,
            "padding": null,
            "right": null,
            "top": null,
            "visibility": null,
            "width": null
          }
        },
        "15ed5400429d440692410012cca059ad": {
          "model_module": "@jupyter-widgets/controls",
          "model_name": "DescriptionStyleModel",
          "model_module_version": "1.5.0",
          "state": {
            "_model_module": "@jupyter-widgets/controls",
            "_model_module_version": "1.5.0",
            "_model_name": "DescriptionStyleModel",
            "_view_count": null,
            "_view_module": "@jupyter-widgets/base",
            "_view_module_version": "1.2.0",
            "_view_name": "StyleView",
            "description_width": ""
          }
        },
        "8a92f2231b2e4072aa421d090ca56b4f": {
          "model_module": "@jupyter-widgets/controls",
          "model_name": "HBoxModel",
          "model_module_version": "1.5.0",
          "state": {
            "_dom_classes": [],
            "_model_module": "@jupyter-widgets/controls",
            "_model_module_version": "1.5.0",
            "_model_name": "HBoxModel",
            "_view_count": null,
            "_view_module": "@jupyter-widgets/controls",
            "_view_module_version": "1.5.0",
            "_view_name": "HBoxView",
            "box_style": "",
            "children": [
              "IPY_MODEL_28930fce52ec48e79a4a3f0e93ab7dd7",
              "IPY_MODEL_5318dd8179c14870a6a7a706bce1d748",
              "IPY_MODEL_50c8cc421e2842e78d11770b52c0cca3"
            ],
            "layout": "IPY_MODEL_d8767460cf1d4ce7945ee93b8562d79d"
          }
        },
        "28930fce52ec48e79a4a3f0e93ab7dd7": {
          "model_module": "@jupyter-widgets/controls",
          "model_name": "HTMLModel",
          "model_module_version": "1.5.0",
          "state": {
            "_dom_classes": [],
            "_model_module": "@jupyter-widgets/controls",
            "_model_module_version": "1.5.0",
            "_model_name": "HTMLModel",
            "_view_count": null,
            "_view_module": "@jupyter-widgets/controls",
            "_view_module_version": "1.5.0",
            "_view_name": "HTMLView",
            "description": "",
            "description_tooltip": null,
            "layout": "IPY_MODEL_c9171ddd58334692a8b5f24179ffd615",
            "placeholder": "​",
            "style": "IPY_MODEL_8afbf41977c249e4854d8deb57b2d920",
            "value": "Creating CSV from Arrow format: 100%"
          }
        },
        "5318dd8179c14870a6a7a706bce1d748": {
          "model_module": "@jupyter-widgets/controls",
          "model_name": "FloatProgressModel",
          "model_module_version": "1.5.0",
          "state": {
            "_dom_classes": [],
            "_model_module": "@jupyter-widgets/controls",
            "_model_module_version": "1.5.0",
            "_model_name": "FloatProgressModel",
            "_view_count": null,
            "_view_module": "@jupyter-widgets/controls",
            "_view_module_version": "1.5.0",
            "_view_name": "ProgressView",
            "bar_style": "success",
            "description": "",
            "description_tooltip": null,
            "layout": "IPY_MODEL_c70cefefd7784b6ca4393d82f7db8798",
            "max": 6,
            "min": 0,
            "orientation": "horizontal",
            "style": "IPY_MODEL_12b9d92b67d64854b07a7b332509518a",
            "value": 6
          }
        },
        "50c8cc421e2842e78d11770b52c0cca3": {
          "model_module": "@jupyter-widgets/controls",
          "model_name": "HTMLModel",
          "model_module_version": "1.5.0",
          "state": {
            "_dom_classes": [],
            "_model_module": "@jupyter-widgets/controls",
            "_model_module_version": "1.5.0",
            "_model_name": "HTMLModel",
            "_view_count": null,
            "_view_module": "@jupyter-widgets/controls",
            "_view_module_version": "1.5.0",
            "_view_name": "HTMLView",
            "description": "",
            "description_tooltip": null,
            "layout": "IPY_MODEL_c0b5643706b04ceb942b66f0c5e2321f",
            "placeholder": "​",
            "style": "IPY_MODEL_59f58d251ae342f3802ff089fe0e24f5",
            "value": " 6/6 [00:00&lt;00:00, 23.62ba/s]"
          }
        },
        "d8767460cf1d4ce7945ee93b8562d79d": {
          "model_module": "@jupyter-widgets/base",
          "model_name": "LayoutModel",
          "model_module_version": "1.2.0",
          "state": {
            "_model_module": "@jupyter-widgets/base",
            "_model_module_version": "1.2.0",
            "_model_name": "LayoutModel",
            "_view_count": null,
            "_view_module": "@jupyter-widgets/base",
            "_view_module_version": "1.2.0",
            "_view_name": "LayoutView",
            "align_content": null,
            "align_items": null,
            "align_self": null,
            "border": null,
            "bottom": null,
            "display": null,
            "flex": null,
            "flex_flow": null,
            "grid_area": null,
            "grid_auto_columns": null,
            "grid_auto_flow": null,
            "grid_auto_rows": null,
            "grid_column": null,
            "grid_gap": null,
            "grid_row": null,
            "grid_template_areas": null,
            "grid_template_columns": null,
            "grid_template_rows": null,
            "height": null,
            "justify_content": null,
            "justify_items": null,
            "left": null,
            "margin": null,
            "max_height": null,
            "max_width": null,
            "min_height": null,
            "min_width": null,
            "object_fit": null,
            "object_position": null,
            "order": null,
            "overflow": null,
            "overflow_x": null,
            "overflow_y": null,
            "padding": null,
            "right": null,
            "top": null,
            "visibility": null,
            "width": null
          }
        },
        "c9171ddd58334692a8b5f24179ffd615": {
          "model_module": "@jupyter-widgets/base",
          "model_name": "LayoutModel",
          "model_module_version": "1.2.0",
          "state": {
            "_model_module": "@jupyter-widgets/base",
            "_model_module_version": "1.2.0",
            "_model_name": "LayoutModel",
            "_view_count": null,
            "_view_module": "@jupyter-widgets/base",
            "_view_module_version": "1.2.0",
            "_view_name": "LayoutView",
            "align_content": null,
            "align_items": null,
            "align_self": null,
            "border": null,
            "bottom": null,
            "display": null,
            "flex": null,
            "flex_flow": null,
            "grid_area": null,
            "grid_auto_columns": null,
            "grid_auto_flow": null,
            "grid_auto_rows": null,
            "grid_column": null,
            "grid_gap": null,
            "grid_row": null,
            "grid_template_areas": null,
            "grid_template_columns": null,
            "grid_template_rows": null,
            "height": null,
            "justify_content": null,
            "justify_items": null,
            "left": null,
            "margin": null,
            "max_height": null,
            "max_width": null,
            "min_height": null,
            "min_width": null,
            "object_fit": null,
            "object_position": null,
            "order": null,
            "overflow": null,
            "overflow_x": null,
            "overflow_y": null,
            "padding": null,
            "right": null,
            "top": null,
            "visibility": null,
            "width": null
          }
        },
        "8afbf41977c249e4854d8deb57b2d920": {
          "model_module": "@jupyter-widgets/controls",
          "model_name": "DescriptionStyleModel",
          "model_module_version": "1.5.0",
          "state": {
            "_model_module": "@jupyter-widgets/controls",
            "_model_module_version": "1.5.0",
            "_model_name": "DescriptionStyleModel",
            "_view_count": null,
            "_view_module": "@jupyter-widgets/base",
            "_view_module_version": "1.2.0",
            "_view_name": "StyleView",
            "description_width": ""
          }
        },
        "c70cefefd7784b6ca4393d82f7db8798": {
          "model_module": "@jupyter-widgets/base",
          "model_name": "LayoutModel",
          "model_module_version": "1.2.0",
          "state": {
            "_model_module": "@jupyter-widgets/base",
            "_model_module_version": "1.2.0",
            "_model_name": "LayoutModel",
            "_view_count": null,
            "_view_module": "@jupyter-widgets/base",
            "_view_module_version": "1.2.0",
            "_view_name": "LayoutView",
            "align_content": null,
            "align_items": null,
            "align_self": null,
            "border": null,
            "bottom": null,
            "display": null,
            "flex": null,
            "flex_flow": null,
            "grid_area": null,
            "grid_auto_columns": null,
            "grid_auto_flow": null,
            "grid_auto_rows": null,
            "grid_column": null,
            "grid_gap": null,
            "grid_row": null,
            "grid_template_areas": null,
            "grid_template_columns": null,
            "grid_template_rows": null,
            "height": null,
            "justify_content": null,
            "justify_items": null,
            "left": null,
            "margin": null,
            "max_height": null,
            "max_width": null,
            "min_height": null,
            "min_width": null,
            "object_fit": null,
            "object_position": null,
            "order": null,
            "overflow": null,
            "overflow_x": null,
            "overflow_y": null,
            "padding": null,
            "right": null,
            "top": null,
            "visibility": null,
            "width": null
          }
        },
        "12b9d92b67d64854b07a7b332509518a": {
          "model_module": "@jupyter-widgets/controls",
          "model_name": "ProgressStyleModel",
          "model_module_version": "1.5.0",
          "state": {
            "_model_module": "@jupyter-widgets/controls",
            "_model_module_version": "1.5.0",
            "_model_name": "ProgressStyleModel",
            "_view_count": null,
            "_view_module": "@jupyter-widgets/base",
            "_view_module_version": "1.2.0",
            "_view_name": "StyleView",
            "bar_color": null,
            "description_width": ""
          }
        },
        "c0b5643706b04ceb942b66f0c5e2321f": {
          "model_module": "@jupyter-widgets/base",
          "model_name": "LayoutModel",
          "model_module_version": "1.2.0",
          "state": {
            "_model_module": "@jupyter-widgets/base",
            "_model_module_version": "1.2.0",
            "_model_name": "LayoutModel",
            "_view_count": null,
            "_view_module": "@jupyter-widgets/base",
            "_view_module_version": "1.2.0",
            "_view_name": "LayoutView",
            "align_content": null,
            "align_items": null,
            "align_self": null,
            "border": null,
            "bottom": null,
            "display": null,
            "flex": null,
            "flex_flow": null,
            "grid_area": null,
            "grid_auto_columns": null,
            "grid_auto_flow": null,
            "grid_auto_rows": null,
            "grid_column": null,
            "grid_gap": null,
            "grid_row": null,
            "grid_template_areas": null,
            "grid_template_columns": null,
            "grid_template_rows": null,
            "height": null,
            "justify_content": null,
            "justify_items": null,
            "left": null,
            "margin": null,
            "max_height": null,
            "max_width": null,
            "min_height": null,
            "min_width": null,
            "object_fit": null,
            "object_position": null,
            "order": null,
            "overflow": null,
            "overflow_x": null,
            "overflow_y": null,
            "padding": null,
            "right": null,
            "top": null,
            "visibility": null,
            "width": null
          }
        },
        "59f58d251ae342f3802ff089fe0e24f5": {
          "model_module": "@jupyter-widgets/controls",
          "model_name": "DescriptionStyleModel",
          "model_module_version": "1.5.0",
          "state": {
            "_model_module": "@jupyter-widgets/controls",
            "_model_module_version": "1.5.0",
            "_model_name": "DescriptionStyleModel",
            "_view_count": null,
            "_view_module": "@jupyter-widgets/base",
            "_view_module_version": "1.2.0",
            "_view_name": "StyleView",
            "description_width": ""
          }
        }
      }
    },
    "accelerator": "GPU"
  },
  "nbformat": 4,
  "nbformat_minor": 5
}